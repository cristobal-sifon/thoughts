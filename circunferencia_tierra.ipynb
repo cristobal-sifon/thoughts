{
 "cells": [
  {
   "cell_type": "code",
   "execution_count": 4,
   "metadata": {},
   "outputs": [],
   "source": [
    "%matplotlib inline\n",
    "%import_all"
   ]
  },
  {
   "cell_type": "markdown",
   "metadata": {},
   "source": [
    "El radio de la Tierra es"
   ]
  },
  {
   "cell_type": "code",
   "execution_count": 14,
   "metadata": {},
   "outputs": [
    {
     "data": {
      "text/latex": [
       "$6378.1 \\; \\mathrm{km}$"
      ],
      "text/plain": [
       "<Quantity 6378.1 km>"
      ]
     },
     "execution_count": 14,
     "metadata": {},
     "output_type": "execute_result"
    }
   ],
   "source": [
    "R_earth = constants.R_earth.to(u.km)\n",
    "R_earth"
   ]
  },
  {
   "cell_type": "markdown",
   "metadata": {},
   "source": [
    "Por lo tanto el perimetro de la Tierra es"
   ]
  },
  {
   "cell_type": "code",
   "execution_count": 15,
   "metadata": {},
   "outputs": [
    {
     "data": {
      "text/latex": [
       "$40074.784 \\; \\mathrm{km}$"
      ],
      "text/plain": [
       "<Quantity 40074.78420772212 km>"
      ]
     },
     "execution_count": 15,
     "metadata": {},
     "output_type": "execute_result"
    }
   ],
   "source": [
    "P_earth = 2 * np.pi * R_earth\n",
    "P_earth"
   ]
  },
  {
   "cell_type": "markdown",
   "metadata": {},
   "source": [
    "Aqui calculamos el angulo que subtiende la porcion de la superficie terrestre entre el observador y el horizonte del observador, dada su altura"
   ]
  },
  {
   "cell_type": "code",
   "execution_count": 89,
   "metadata": {},
   "outputs": [],
   "source": [
    "def curvatura(altura):\n",
    "    return np.arccos(R_earth / (R_earth+altura)).to(u.deg)"
   ]
  },
  {
   "cell_type": "markdown",
   "metadata": {},
   "source": [
    "Una funcion que calcula la distancia al horizonte dada la altura de observacion"
   ]
  },
  {
   "cell_type": "code",
   "execution_count": 96,
   "metadata": {},
   "outputs": [],
   "source": [
    "def horizonte(altura):\n",
    "    return np.sin(curvatura(altura)) * (R_earth+altura)"
   ]
  },
  {
   "cell_type": "markdown",
   "metadata": {},
   "source": [
    "## Desde un avion comercial\n",
    "\n",
    "Por ejemplo, a una altura $h=10$ km (la altura de un avion comercial), el horizonte se ve a unos"
   ]
  },
  {
   "cell_type": "code",
   "execution_count": 97,
   "metadata": {},
   "outputs": [
    {
     "data": {
      "text/latex": [
       "$357.29819 \\; \\mathrm{km}$"
      ],
      "text/plain": [
       "<Quantity 357.2981947897278 km>"
      ]
     },
     "execution_count": 97,
     "metadata": {},
     "output_type": "execute_result"
    }
   ],
   "source": [
    "h = 10 * u.km\n",
    "dh = horizonte(h)\n",
    "dh"
   ]
  },
  {
   "cell_type": "markdown",
   "metadata": {},
   "source": [
    "que subtiende un angulo alrededor del centro terrestre de "
   ]
  },
  {
   "cell_type": "code",
   "execution_count": 98,
   "metadata": {},
   "outputs": [
    {
     "data": {
      "text/latex": [
       "$3.2063317 \\; \\mathrm{{}^{\\circ}}$"
      ],
      "text/plain": [
       "<Quantity 3.206331691300758 deg>"
      ]
     },
     "execution_count": 98,
     "metadata": {},
     "output_type": "execute_result"
    }
   ],
   "source": [
    "angulo = curvatura(h)\n",
    "angulo"
   ]
  },
  {
   "cell_type": "markdown",
   "metadata": {},
   "source": [
    "equivalente a un 0.9% de la circunferencia completa.\n",
    "\n",
    "Para visualizar ese arco, definimos las siguientes funciones:"
   ]
  },
  {
   "cell_type": "code",
   "execution_count": 173,
   "metadata": {},
   "outputs": [],
   "source": [
    "def arco(angulo):\n",
    "    # largo de la cuerda\n",
    "    c = 2 * R_earth * np.sin(angulo/2)\n",
    "    x = np.linspace(-c/2, c/2, 20)\n",
    "    y_curva = (R_earth**2 - x**2)**0.5\n",
    "    return c, x, y_curva\n",
    "\n",
    "def grafico(angulo, ancho=10, alto=3, recta=True):\n",
    "    fig, ax = plt.subplots(figsize=(ancho,alto))\n",
    "    c, x, y_curva = arco(angulo)\n",
    "    ax.plot(x, y_curva, label='Arco de {0:.1f} grados'.format(angulo.value))\n",
    "    if recta:\n",
    "        y_recta = y_curva.mean() * np.ones(x.size)\n",
    "        ax.plot(x, y_recta, label='Linea recta')\n",
    "        ax.legend(loc='upper center')\n",
    "    ax.set_xlim(-c.value/2, c.value/2)\n",
    "    ax.set_ylim((R_earth-alto/ancho*c/2).value, (R_earth+alto/ancho*c/2).value)\n",
    "    ax.axis('off');\n",
    "    return"
   ]
  },
  {
   "cell_type": "code",
   "execution_count": 176,
   "metadata": {},
   "outputs": [
    {
     "data": {
      "image/png": "[encoded data removed]",
      "text/plain": [
       "<matplotlib.figure.Figure at 0x10a6414e0>"
      ]
     },
     "metadata": {},
     "output_type": "display_data"
    }
   ],
   "source": [
    "grafico(angulo, recta=False)"
   ]
  },
  {
   "cell_type": "markdown",
   "metadata": {},
   "source": [
    "Al mirar la linea azul por si sola es muy dificil discernir que no se trata de una linea recta. A esto hay que agregarle que la atmosfera hace que el horizonte no se vea bien definido. No es ninguna sorpresa que el horizonte parezca recto desde un avion comercial."
   ]
  },
  {
   "cell_type": "code",
   "execution_count": 177,
   "metadata": {},
   "outputs": [
    {
     "data": {
      "image/png": "[encoded data removed]",
      "text/plain": [
       "<matplotlib.figure.Figure at 0x10b516f60>"
      ]
     },
     "metadata": {},
     "output_type": "display_data"
    }
   ],
   "source": [
    "grafico(angulo, recta=True)"
   ]
  },
  {
   "cell_type": "markdown",
   "metadata": {},
   "source": [
    "Solo al agregar la linea recta como referencia queda claro que la linea azul es apenas curva. Esa es la diferencia que buscamos en el horizonte.\n",
    "\n",
    "## Desde la Estacion Espacial Internacional (ISS)\n",
    "\n",
    "Mientras que desde la estacion espacial internacional, a una altura de unos 400 km sobre la superficie de la Tierra, la distancia al horizonte es"
   ]
  },
  {
   "cell_type": "code",
   "execution_count": 166,
   "metadata": {},
   "outputs": [
    {
     "data": {
      "text/latex": [
       "$2294.0096 \\; \\mathrm{km}$"
      ],
      "text/plain": [
       "<Quantity 2294.0095902153494 km>"
      ]
     },
     "execution_count": 166,
     "metadata": {},
     "output_type": "execute_result"
    }
   ],
   "source": [
    "altura_iss = 400 * u.km\n",
    "dh_iss = horizonte(altura_iss)\n",
    "dh_iss"
   ]
  },
  {
   "cell_type": "markdown",
   "metadata": {},
   "source": [
    "que subtiende un angulo de"
   ]
  },
  {
   "cell_type": "code",
   "execution_count": 167,
   "metadata": {},
   "outputs": [
    {
     "data": {
      "text/latex": [
       "$19.782123 \\; \\mathrm{{}^{\\circ}}$"
      ],
      "text/plain": [
       "<Quantity 19.782123254234477 deg>"
      ]
     },
     "execution_count": 167,
     "metadata": {},
     "output_type": "execute_result"
    }
   ],
   "source": [
    "angulo_iss = curvatura(altura_iss)\n",
    "angulo_iss"
   ]
  },
  {
   "cell_type": "markdown",
   "metadata": {},
   "source": [
    "cuya diferencia con una linea recta se ve mas o menos asi:"
   ]
  },
  {
   "cell_type": "code",
   "execution_count": 178,
   "metadata": {},
   "outputs": [
    {
     "data": {
      "image/png": "[encoded data removed]",
      "text/plain": [
       "<matplotlib.figure.Figure at 0x10a67d550>"
      ]
     },
     "metadata": {},
     "output_type": "display_data"
    }
   ],
   "source": [
    "grafico(angulo_iss, recta=False)"
   ]
  },
  {
   "cell_type": "markdown",
   "metadata": {},
   "source": [
    "Incluso sin la referencia de una linea recta, queda claro que la linea es curva. Agregando la linea recta de referencia se aprecia cuanto mas curva se ve la Tierra desde la estacion espacial internacional comparado con un avion comercial en vuelo."
   ]
  },
  {
   "cell_type": "code",
   "execution_count": 179,
   "metadata": {},
   "outputs": [
    {
     "data": {
      "image/png": "[encoded data removed]",
      "text/plain": [
       "<matplotlib.figure.Figure at 0x10b894b70>"
      ]
     },
     "metadata": {},
     "output_type": "display_data"
    }
   ],
   "source": [
    "grafico(angulo_iss)"
   ]
  }
 ],
 "metadata": {
  "kernelspec": {
   "display_name": "Python 3",
   "language": "python",
   "name": "python3"
  },
  "language_info": {
   "codemirror_mode": {
    "name": "ipython",
    "version": 3
   },
   "file_extension": ".py",
   "mimetype": "text/x-python",
   "name": "python",
   "nbconvert_exporter": "python",
   "pygments_lexer": "ipython3",
   "version": "3.6.0"
  }
 },
 "nbformat": 4,
 "nbformat_minor": 2
}
